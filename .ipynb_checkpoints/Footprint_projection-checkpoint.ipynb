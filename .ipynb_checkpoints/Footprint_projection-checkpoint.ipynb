{
 "cells": [
  {
   "cell_type": "code",
   "execution_count": null,
   "metadata": {},
   "outputs": [],
   "source": [
    "import os\n",
    "import matplotlib.pyplot as plt\n",
    "import numpy as np\n",
    "import geopandas\n",
    "import pandas as pd\n",
    "from osgeo import gdal, gdalconst\n",
    "import math\n",
    "from mpl_toolkits.mplot3d import Axes3D\n",
    "\n"
   ]
  },
  {
   "cell_type": "markdown",
   "metadata": {},
   "source": [
    "First, we will open our DEM file that is stored as a geotiff in WGS 84 CRS. We will then use gdal.Warp to reproject the file to UTM zone 12N. "
   ]
  },
  {
   "cell_type": "code",
   "execution_count": null,
   "metadata": {},
   "outputs": [],
   "source": [
    "elev_path = 'C:/Users/x51b783/Documents/Mirror/SnowAlbedoProcessingChain/working_directory_test/surface_models/elevation/YC20200219_DEM.tif'\n",
    "elev = gdal.Open(elev_path, gdal.GA_ReadOnly) # open GeoTiff in read only mode\n",
    "elev_UTM_path = 'C:/Users/x51b783/Documents/Mirror/SnowAlbedoProcessingChain/working_directory_test/surface_models/elevation/YC20200219_DEM_UTM.tif'\n",
    "warp = gdal.Warp(elev_UTM_path,elev,dstSRS='EPSG:32612') # reproject elevation GeoTiff from WGS to UTM\n",
    "\n",
    "# close files\n",
    "warp = None\n",
    "elev = None\n",
    "\n",
    "elev_UTM = gdal.Open(elev_UTM_path, gdal.GA_ReadOnly) # open reprojected elevation GeoTiff "
   ]
  },
  {
   "cell_type": "code",
   "execution_count": null,
   "metadata": {},
   "outputs": [],
   "source": [
    "path_to_slope = 'C:/Users/x51b783/Documents/Mirror/SnowAlbedoProcessingChain/working_directory_test/surface_models/slope/YC20200219_slope_UTM.tif'\n",
    "path_to_aspect = 'C:/Users/x51b783/Documents/Mirror/SnowAlbedoProcessingChain/working_directory_test/surface_models/aspect/YC20200219_aspect_UTM.tif'\n",
    "\n",
    "#processing_options = gdal.DEMProcessingOptions(alg = 'ZevenbergenThorne', format = 'GTiff')\n",
    "processing_options = gdal.DEMProcessingOptions(alg = 'Horn', format = 'GTiff')\n",
    "\n",
    "slope_UTM = gdal.DEMProcessing(path_to_slope, elev_UTM_path, 'slope')\n",
    "aspect_UTM = gdal.DEMProcessing(path_to_aspect, elev_UTM_path, 'aspect')"
   ]
  },
  {
   "cell_type": "code",
   "execution_count": null,
   "metadata": {},
   "outputs": [],
   "source": [
    "#set sensor half FOV to control the footprint area\n",
    "sensor_half_FOV = 70\n",
    "sensor_half_FOV_rad = np.radians(sensor_half_FOV)"
   ]
  },
  {
   "cell_type": "markdown",
   "metadata": {},
   "source": [
    "Next, we need to import our point data and put it into a geopandas geodataframe. Coordinates need to be assigned a CRS, and then projected into UTM Zone 12N"
   ]
  },
  {
   "cell_type": "code",
   "execution_count": null,
   "metadata": {},
   "outputs": [],
   "source": [
    "df = pd.DataFrame({'point_name': ['1'], 'lat': [45.231734], 'lon': [-111.476256], 'elevation': [2648], 'pitch': [5], 'roll': [-3], 'yaw': [0]})\n",
    "\n",
    "gdf = geopandas.GeoDataFrame(df, geometry = geopandas.points_from_xy(df.lon, df.lat)) # create geodataframe and specify coordinate geometry\n",
    "gdf = gdf.set_crs('EPSG:4326') # set CRS to WGS 84\n",
    "gdf = gdf.to_crs('EPSG:32612') # project geometry to UTM Zone 12N\n",
    "\n",
    "point_lon = gdf['geometry'][0].centroid.x # centroid.x is x coordinate of point geometry feature in UTM\n",
    "point_lat = gdf['geometry'][0].centroid.y # centroid.y is y coordinate of point geometry feature in UTM\n",
    "point_elev = gdf['elevation'][0]\n",
    "\n",
    "point_lat, point_lon, point_elev"
   ]
  },
  {
   "cell_type": "markdown",
   "metadata": {},
   "source": [
    "Now, we will create a raster that represents the difference in elevation between the sensor and surface."
   ]
  },
  {
   "cell_type": "code",
   "execution_count": null,
   "metadata": {},
   "outputs": [],
   "source": [
    "elev_band = elev_UTM.GetRasterBand(1)\n",
    "ndv = elev_band.GetNoDataValue()\n",
    "\n",
    "elev_array = elev_band.ReadAsArray() # read in raster as an array\n",
    "\n",
    "elev_array[elev_array==ndv]=np.nan # set nan values to np.nan so they do not interfere with calculations\n",
    "elev_array[elev_array>=point_elev]=np.nan # points above the downward-facing sensor should be masked out as well\n",
    "\n",
    "elev_diff = point_elev - elev_array # calculate elevation difference\n",
    "\n",
    "# np.max and np.min will both return nan if there are nan present, so we use np.nanmax and np.nanmin instead\n",
    "print(np.nanmax(elev_diff)) \n",
    "print(np.nanmin(elev_diff))\n"
   ]
  },
  {
   "cell_type": "markdown",
   "metadata": {},
   "source": [
    "The next step is to create two rasters that represent the distance on the x and y planes, in meters, from any pixel to the measurement point."
   ]
  },
  {
   "cell_type": "code",
   "execution_count": null,
   "metadata": {},
   "outputs": [],
   "source": [
    "# the raster geotransform tells the precise x,y location of the upper left corner of the upper left pixel, as well as pixel size\n",
    "geotransform = elev_UTM.GetGeoTransform()\n",
    "\n",
    "# using this information we will construct arrays for both the x and y coordinates of each pixel in the image\n",
    "image_shape = np.shape(elev_array)\n",
    "coordinate_array_x = np.zeros(image_shape)\n",
    "coordinate_array_y = np.zeros(image_shape)\n",
    "\n",
    "upper_left_center_x = geotransform[0] + geotransform[1]\n",
    "upper_left_center_y = geotransform[3] + geotransform[5]\n",
    "\n",
    "pixel_y = geotransform[3]\n",
    "pixel_x = geotransform[0]\n",
    "\n",
    "\n",
    "for row in range(0, image_shape[0]):\n",
    "    \n",
    "    pixel_x = geotransform[0]\n",
    "    pixel_y += geotransform[5]\n",
    "    \n",
    "    for col in range(0, image_shape[1]):\n",
    "        pixel_x += geotransform[1]\n",
    "        \n",
    "        coordinate_array_x[row][col] = pixel_x\n",
    "        coordinate_array_y[row][col] = pixel_y\n",
    "        \n",
    "        \n",
    "        \n",
    "\n"
   ]
  },
  {
   "cell_type": "code",
   "execution_count": null,
   "metadata": {},
   "outputs": [],
   "source": [
    "# now that we have both coordinate arrays, we can turn them into distance arrays by subtracting the pixel coordinates from the \n",
    "# coordinates of the measurement point. Since everything is in UTM this distance is in meters.\n",
    "\n",
    "dist_x = coordinate_array_y - point_lat\n",
    "dist_y = coordinate_array_x - point_lon\n",
    "\n",
    "#notice that x and y are switched here. This is because we need the coordinate system to be in the form of \n",
    "#North = x axis, East = y axis, Up/down = z axis\n",
    "\n",
    "\n"
   ]
  },
  {
   "cell_type": "markdown",
   "metadata": {},
   "source": [
    "Now we need to determine the equation for the plane of the sensing surface using the pitch, roll, and yaw of the aircraft. The rotation matrix for pitch, roll, and yaw is Rx * Ry * Rz.\n",
    "\n",
    "Take this sensing surface as the origin with a surface normal (0,0,-1). We need to multiply this by the rotation matrix to get the tilted surface normal.\n"
   ]
  },
  {
   "cell_type": "code",
   "execution_count": null,
   "metadata": {},
   "outputs": [],
   "source": [
    "gdf['pitch_radians'] = np.radians(gdf['pitch'])\n",
    "gdf['roll_radians'] = np.radians(gdf['roll'])\n",
    "gdf['yaw_radians'] = np.radians(gdf['yaw'])"
   ]
  },
  {
   "cell_type": "code",
   "execution_count": null,
   "metadata": {},
   "outputs": [],
   "source": [
    "surface_normal = [[0],[0],[-1]]\n",
    "\n",
    "pitch = gdf['pitch_radians'][0]\n",
    "roll = gdf['roll_radians'][0]\n",
    "yaw = gdf['yaw_radians'][0]\n",
    "\n",
    "\n",
    "rot_matrix = [\n",
    "              [np.cos(yaw)*np.cos(pitch), np.cos(pitch)*np.sin(yaw), -1*np.sin(pitch)],\n",
    "              [np.cos(yaw)*np.sin(roll)*np.sin(pitch)-np.cos(roll)*np.sin(yaw), np.cos(roll)*np.cos(yaw)+np.sin(roll)*np.sin(yaw)*np.sin(pitch), np.cos(pitch)*np.sin(roll)],\n",
    "              [np.sin(roll)*np.sin(yaw)+np.cos(roll)*np.cos(yaw)*np.sin(pitch), np.cos(roll)*np.sin(yaw)*np.sin(pitch)-np.cos(yaw)*np.sin(roll), np.cos(roll)*np.cos(pitch)],\n",
    "             ]\n",
    "\n",
    "surface_normal = np.dot(rot_matrix, surface_normal)\n",
    "\n",
    "print(surface_normal)"
   ]
  },
  {
   "cell_type": "markdown",
   "metadata": {},
   "source": [
    "Let's now plot both the original surface normal, and the new surface normal that is tilted based on aircraft pitch, roll, and yaw."
   ]
  },
  {
   "cell_type": "code",
   "execution_count": null,
   "metadata": {},
   "outputs": [],
   "source": [
    "plane_normal = np.array([[0, 0, 0, 0, 0, -1]])\n",
    "tilted_normal = np.array([[0,0,0, surface_normal[0][0], surface_normal[1][0], surface_normal[2][0]]])\n",
    "\n",
    "X, Y, Z, U, V, W = zip(*plane_normal)\n",
    "Xi, Yi, Zi, Ui, Vi, Wi = zip(*tilted_normal)\n",
    "\n",
    "fig = plt.figure(figsize = (10,10))\n",
    "ax = fig.add_subplot(111, projection='3d')\n",
    "ax.quiver(X, Y, Z, U, V, W, color = 'black')\n",
    "ax.quiver(Xi, Yi, Zi, Ui, Vi, Wi, color = 'blue')\n",
    "\n",
    "\n",
    "ax.set_ylim(-1,1)\n",
    "ax.set_xlim(-1,1)\n",
    "ax.set_zlim(-1,0)\n",
    "ax.set_xlabel('x')\n",
    "ax.set_ylabel('y')\n",
    "ax.set_zlabel('z')\n",
    "\n",
    "\n",
    "plt.show()"
   ]
  },
  {
   "cell_type": "markdown",
   "metadata": {},
   "source": [
    "Now we will calculate the acute angle between every pixel on the elevation surface and the plane of the sensing surface using some linear algebra magic"
   ]
  },
  {
   "cell_type": "code",
   "execution_count": null,
   "metadata": {},
   "outputs": [],
   "source": [
    "angle = np.arcsin(np.abs((surface_normal[0][0] * dist_x + \n",
    "                   surface_normal[1][0] * dist_y + \n",
    "                   surface_normal[2][0] * -1 * elev_diff) /\n",
    "                  (np.sqrt(np.square(dist_x)+np.square(dist_y)+np.square(elev_diff)) *\n",
    "                   np.sqrt(np.square(surface_normal[0][0])+np.square(surface_normal[1][0])+np.square(surface_normal[2][0])\n",
    "                  ))\n",
    "                 ))"
   ]
  },
  {
   "cell_type": "markdown",
   "metadata": {},
   "source": [
    "And we will filter out pixels if the acute angle is less than (90 degrees - the half field of view), or outside the field of view"
   ]
  },
  {
   "cell_type": "code",
   "execution_count": null,
   "metadata": {},
   "outputs": [],
   "source": [
    "angle[angle<=(math.pi/2)-sensor_half_FOV_rad]=np.nan\n",
    "\n",
    "#note that the maximum angle should never greater than 90 degrees (1.5708 rad)\n",
    "#and the minimum angle should never be less than 90-HFOV (.349066 rad for HFOV = 70 degrees)\n",
    "\n",
    "print(np.nanmin(angle))\n",
    "print(np.nanmax(angle))"
   ]
  },
  {
   "cell_type": "markdown",
   "metadata": {},
   "source": [
    "Now we will calculate a an average slope and aspect based on the weighted average of the cosine of the incidence angle between a pixel and the sensor. We will then calculate a simple arithmetic mean value within the footprint."
   ]
  },
  {
   "cell_type": "code",
   "execution_count": null,
   "metadata": {},
   "outputs": [],
   "source": [
    "cosine_incidence = np.cos((math.pi/2)-angle)\n",
    "cos_sum = np.nansum(cosine_incidence)\n",
    "weighting = cosine_incidence/cos_sum"
   ]
  },
  {
   "cell_type": "code",
   "execution_count": null,
   "metadata": {},
   "outputs": [],
   "source": [
    "# read in aspect data\n",
    "aspect_band = aspect_UTM.GetRasterBand(1)\n",
    "aspect_array = aspect_band.ReadAsArray() # read in raster as an array\n",
    "\n",
    "# calculate cosine wighted average\n",
    "aspect_arr_weighted = weighting * aspect_array\n",
    "\n",
    "weighted_aspect = np.nansum(aspect_arr_weighted)\n",
    "print('cosine-weighted mean aspect: ' + str(weighted_aspect))\n",
    "\n",
    "# now calculate arithmetic mean\n",
    "aspect_arr_masked = aspect_arr_weighted/weighting\n",
    "mean_aspect = np.nanmean(aspect_arr_masked)\n",
    "print('arithmetic mean aspect: ' + str(mean_aspect))"
   ]
  },
  {
   "cell_type": "code",
   "execution_count": null,
   "metadata": {},
   "outputs": [],
   "source": [
    "# read in slope data\n",
    "slope_band = slope_UTM.GetRasterBand(1)\n",
    "slope_array = slope_band.ReadAsArray() # read in raster as an array\n",
    "\n",
    "# calculate cosine wighted average\n",
    "slope_arr_weighted = weighting * slope_array\n",
    "\n",
    "weighted_slope = np.nansum(slope_arr_weighted)\n",
    "print('cosine-weighted mean slope: ' + str(weighted_slope))\n",
    "\n",
    "# now calculate arithmetic mean\n",
    "slope_arr_masked = slope_arr_weighted/weighting\n",
    "mean_slope = np.nanmean(slope_arr_masked)\n",
    "print('arithmetic mean slope: ' + str(mean_slope))"
   ]
  },
  {
   "cell_type": "code",
   "execution_count": null,
   "metadata": {},
   "outputs": [],
   "source": [
    "driver = gdal.GetDriverByName(\"GTiff\")\n",
    "outdata = driver.Create('C:/Users/x51b783/Documents/Mirror/SnowAlbedoProcessingChain/working_directory_test/aspect_masked.tiff', image_shape[1], image_shape[0], 1, gdalconst.GDT_Float32)\n",
    "outdata.SetGeoTransform(elev_UTM.GetGeoTransform())##sets same geotransform as input\n",
    "outdata.SetProjection(elev_UTM.GetProjection())##sets same projection as input\n",
    "outdata.GetRasterBand(1).WriteArray(aspect_arr_masked)\n",
    "outdata.GetRasterBand(1).SetNoDataValue(10000)##if you want these values transparent\n",
    "outdata.FlushCache() ##saves to disk!!\n",
    "outdata = None\n",
    "band=None\n",
    "ds=None"
   ]
  },
  {
   "cell_type": "code",
   "execution_count": null,
   "metadata": {},
   "outputs": [],
   "source": [
    "\n",
    "\n"
   ]
  },
  {
   "cell_type": "code",
   "execution_count": null,
   "metadata": {},
   "outputs": [],
   "source": []
  }
 ],
 "metadata": {
  "kernelspec": {
   "display_name": "Python 3",
   "language": "python",
   "name": "python3"
  },
  "language_info": {
   "codemirror_mode": {
    "name": "ipython",
    "version": 3
   },
   "file_extension": ".py",
   "mimetype": "text/x-python",
   "name": "python",
   "nbconvert_exporter": "python",
   "pygments_lexer": "ipython3",
   "version": "3.7.9"
  }
 },
 "nbformat": 4,
 "nbformat_minor": 4
}
